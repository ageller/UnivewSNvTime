{
 "cells": [
  {
   "cell_type": "markdown",
   "metadata": {},
   "source": [
    "# Uniview module for Supernovae over time\n",
    "\n",
    "Data downloaded from The Open Supernova Catalog https://sne.space on Aug. 20, 2019\n",
    "\n",
    "*Aaron Geller, 2019*\n",
    "\n",
    "### Imports and function definitions"
   ]
  },
  {
   "cell_type": "code",
   "execution_count": 1,
   "metadata": {},
   "outputs": [],
   "source": [
    "#This directory contains all the data needed for the module. It should be in the same directory as the notebook\n",
    "dataFolder = \"data\" \n",
    "import sys, os, shutil, errno, string, urllib\n",
    "\n",
    "\n",
    "sys.path.append(( os.path.abspath( os.path.join(os.path.realpath(\"__file__\"),  os.pardir, os.pardir) )))\n",
    "import uvmodlib.v1 as uvmod"
   ]
  },
  {
   "cell_type": "markdown",
   "metadata": {},
   "source": [
    "### USES Conf Template "
   ]
  },
  {
   "cell_type": "code",
   "execution_count": 45,
   "metadata": {},
   "outputs": [],
   "source": [
    "Template = \"\"\"mesh\n",
    "{  \n",
    "    data SNdata ./modules/$folderName/OpenSNCatConverted.raw\n",
    "    data  quad ./modules/$folderName/quad.3ds\n",
    "\n",
    "    cullRadius $cr\n",
    "    glslVersion 330\n",
    "    \n",
    "    propertyCollection \n",
    "    {        \n",
    "        __objectName__\n",
    "        {           \n",
    "\n",
    "            vec1f radiusScale 1 | public | desc \"point size scale\" | widget slider | range 0 5\n",
    "            vec1f SNduration 1 | public | desc \"duration of SN light curve\" | widget slider | range 0 100\n",
    "            vec1f SNtmin 1885 | public | desc \"minimum time to show the SN\" | widget slider | range 1885 2020\n",
    "            vec1f SNangleMax 0.05 | public | desc \"max angular size of SN circle\" | widget slider | range 0 3.14\n",
    "            bool fadeOutSN true | public  | desc \"fade off SN\"     \n",
    "\n",
    "            vec1f eventTime 2020 | public | desc \"event time \" | widget slider | range 1885 2020\n",
    "            vec1f transitionLength 5 | public | desc \"transition length in seconds\" \n",
    "            bool jump true | public  | desc \"jump to time without transition\"     \n",
    "            \n",
    "        }\n",
    "    }\n",
    "\n",
    "    ############# to hold the time information for SN\n",
    "    renderTexture\n",
    "    {\n",
    "        name                      stateTexture\n",
    "        width                     1\n",
    "        height                    1\n",
    "        numTextures               1\n",
    "        isPingPong                true\n",
    "        isPersistent              true\n",
    "        isFramePersistent         true\n",
    "        internalTextureFormat     GL_RGB32F\n",
    "        magnify                   GL_NEAREST\n",
    "        minify                    GL_NEAREST\n",
    "    }\n",
    "    ############# set Transition State\n",
    "    pass \n",
    "    {\n",
    "        useDataObject quad\n",
    "        renderTarget\n",
    "        {\n",
    "            name stateTexture\n",
    "            enableColorClear false\n",
    "        }\n",
    "         shader\n",
    "        {\n",
    "            type defaultMeshShader\n",
    "            {\n",
    "                vertexShader   ./modules/$folderName/pass0.vs\n",
    "                fragmentShader ./modules/$folderName/state.fs\n",
    "                textureFBO stateTexture stateTexture\n",
    "                stateManagerVar __objectName__.transitionLength transitionLength \n",
    "                stateManagerVar __objectName__.jump jump \n",
    "                stateManagerVar __objectName__.eventTime eventTime \n",
    "                parameter2f timeRange 1885 2100\n",
    "           }\n",
    "        }      \n",
    "    }\n",
    "    \n",
    "    \n",
    "    ############# SN v Time\n",
    "    pass\n",
    "    {\n",
    "        useDataObject SNdata\n",
    "        shader\n",
    "        {\n",
    "            type defaultMeshShader\n",
    "            {\n",
    "                geometryShader   ./modules/$folderName/SNvtime.gs\n",
    "                vertexShader ./modules/$folderName/SNvtime.vs\n",
    "                fragmentShader   ./modules/$folderName/SNvtime.fs\n",
    "                textureFBO stateTexture stateTexture\n",
    "                texture cmap ./modules/$folderName/cmap.png\n",
    "                {             \n",
    "                    wrapModeS GL_CLAMP_TO_EDGE\n",
    "                    wrapModeR GL_CLAMP_TO_EDGE\n",
    "                    colorspace linear\n",
    "                }\n",
    "                \n",
    "                stateManagerVar __objectName__.radiusScale  radiusScale\n",
    "                stateManagerVar __objectName__.SNduration  SNduration\n",
    "                stateManagerVar __objectName__.SNtmin  SNtmin\n",
    "                stateManagerVar __objectName__.SNangleMax  SNangleMax\n",
    "                stateManagerVar __objectName__.fadeOutSN  fadeOutSN\n",
    "                \n",
    "                glState\n",
    "                {\n",
    "                    UV_CULL_FACE_ENABLE false\n",
    "                    UV_BLEND_ENABLE true\n",
    "                    UV_DEPTH_ENABLE false\n",
    "                    UV_WRITE_MASK_DEPTH true\n",
    "                    UV_BLEND_FUNC GL_SRC_ALPHA GL_ONE_MINUS_SRC_ALPHA\n",
    "                }\n",
    "            }\n",
    "\n",
    "        }    \n",
    "    }\n",
    "}\"\"\""
   ]
  },
  {
   "cell_type": "markdown",
   "metadata": {},
   "source": [
    "### SN class"
   ]
  },
  {
   "cell_type": "code",
   "execution_count": 46,
   "metadata": {},
   "outputs": [],
   "source": [
    "class SNClass():\n",
    "    def __init__(self, object):\n",
    "        self.object = object\n",
    "        uvmod.Utility.ensurerelativepathexsists(\"SNvtime.gs\",dataFolder)\n",
    "        uvmod.Utility.ensurerelativepathexsists(\"SNvtime.vs\",dataFolder)\n",
    "        uvmod.Utility.ensurerelativepathexsists(\"SNvtime.fs\",dataFolder)\n",
    "        uvmod.Utility.ensurerelativepathexsists(\"state.fs\",dataFolder)\n",
    "        uvmod.Utility.ensurerelativepathexsists(\"pass0.vs\",dataFolder)\n",
    "        self.cr = 1000\n",
    "        self.Scale = 1\n",
    "\n",
    "    def generatemod(self):\n",
    "        self.object.setgeometry(self.object.name+\"Mesh.usesconf\")\n",
    "        return self.object.generatemod()\n",
    "    def generatefiles(self, absOutDir, relOutDir):\n",
    "        fileName = self.object.name+\"Mesh.usesconf\"\n",
    "        s = string.Template(Template)\n",
    "        f = open(absOutDir+\"\\\\\"+fileName, 'w')\n",
    "        if f:\n",
    "            f.write(s.substitute(folderName = relOutDir,\n",
    "                                 cr = self.cr,\n",
    "                                 Scale = self.Scale\n",
    "                                 ))\n",
    "            f.close()\n",
    "        uvmod.Utility.copyfoldercontents(os.getcwd()+\"\\\\\"+dataFolder, absOutDir)"
   ]
  },
  {
   "cell_type": "markdown",
   "metadata": {},
   "source": [
    "### Object Instantiation"
   ]
  },
  {
   "cell_type": "code",
   "execution_count": 47,
   "metadata": {},
   "outputs": [],
   "source": [
    "model = SNClass(uvmod.OrbitalObject())\n",
    "scene = uvmod.Scene()\n",
    "parentScene = uvmod.Scene()\n",
    "modinfo = uvmod.ModuleInformation()\n",
    "generator = uvmod.Generator()"
   ]
  },
  {
   "cell_type": "markdown",
   "metadata": {},
   "source": [
    "### Specify Settings and generate the module"
   ]
  },
  {
   "cell_type": "code",
   "execution_count": 48,
   "metadata": {},
   "outputs": [],
   "source": [
    "scene.setname(\"SNvTime\")\n",
    "scene.setparent(\"Extragalactic\")\n",
    "scene.setunit(3.09e22) #Mpc\n",
    "#scene.setentrydist(1e5)\n",
    "\n",
    "model.object.setcameraradius(1e-3)\n",
    "model.object.setcoord(scene.name)\n",
    "model.object.setname(\"SNvTime\")\n",
    "model.object.setguiname(\"/KavliLecture/Zooniverse/SNvTime\")\n",
    "model.object.settargetradius(100)\n",
    "model.object.showatstartup(False)\n",
    "model.cr = 1e3\n",
    "\n",
    "modinfo.setname(\"SNvTime\")\n",
    "modinfo.setauthor(\"Aaron Geller<sup>1</sup>, Laura Trouille<sup>1</sup>, Chris Lintott<sup>2</sup> <br />(1)Adler Planetarium,<br />(2)Oxford University,\")\n",
    "modinfo.cleardependencies()\n",
    "modinfo.setdesc(\"Uniview module for a SN vs time.  Data are from The Open Supernova Catalog, https://sne.space .\")\n",
    "#modinfo.setthumbnail(\"data/M82ScreenshotThumb.png\")\n",
    "modinfo.setversion(\"1.0\")\n",
    "\n",
    "generator.generate(\"SNvTime\",[scene],[model],modinfo)\n",
    "uvmod.Utility.senduvcommand(model.object.name+\".reload\")\n"
   ]
  },
  {
   "cell_type": "markdown",
   "metadata": {},
   "source": [
    "## To reload"
   ]
  },
  {
   "cell_type": "code",
   "execution_count": 6,
   "metadata": {},
   "outputs": [],
   "source": [
    "from config import Settings"
   ]
  },
  {
   "cell_type": "code",
   "execution_count": 50,
   "metadata": {},
   "outputs": [],
   "source": [
    "uvmod.Utility.copyfoldercontents(os.getcwd()+\"\\\\\"+dataFolder, Settings.uvcustommodulelocation+'\\\\'+model.object.name)\n",
    "uvmod.Utility.senduvcommand(model.object.name+\".reload\")"
   ]
  },
  {
   "cell_type": "markdown",
   "metadata": {},
   "source": [
    "### Create colormap texture"
   ]
  },
  {
   "cell_type": "code",
   "execution_count": 1,
   "metadata": {},
   "outputs": [],
   "source": [
    "import numpy as np\n",
    "import matplotlib.pyplot as plt\n",
    "from matplotlib import cm\n",
    "%matplotlib inline"
   ]
  },
  {
   "cell_type": "code",
   "execution_count": 2,
   "metadata": {},
   "outputs": [
    {
     "data": {
      "image/png": "[encoded data removed]",
      "text/plain": [
       "<matplotlib.figure.Figure at 0x2b716955d30>"
      ]
     },
     "metadata": {},
     "output_type": "display_data"
    }
   ],
   "source": [
    "gradient = np.linspace(0, 1, 256)\n",
    "gradient = np.vstack((gradient, gradient))\n",
    "\n",
    "def plot_cmap(colormap):\n",
    "    fig=plt.imshow(gradient, aspect=1, cmap=colormap)\n",
    "    plt.axis('off')\n",
    "    fig.axes.get_xaxis().set_visible(False)\n",
    "    fig.axes.get_yaxis().set_visible(False)\n",
    "    plt.savefig(\"data/cmap.png\", bbox_inches='tight',pad_inches=0)\n",
    "\n",
    "#plot_cmap('tab20')\n",
    "#plot_cmap('plasma')\n",
    "plot_cmap('viridis')"
   ]
  },
  {
   "cell_type": "code",
   "execution_count": null,
   "metadata": {},
   "outputs": [],
   "source": []
  }
 ],
 "metadata": {
  "anaconda-cloud": {},
  "kernelspec": {
   "display_name": "Python 3",
   "language": "python",
   "name": "python3"
  },
  "language_info": {
   "codemirror_mode": {
    "name": "ipython",
    "version": 3
   },
   "file_extension": ".py",
   "mimetype": "text/x-python",
   "name": "python",
   "nbconvert_exporter": "python",
   "pygments_lexer": "ipython3",
   "version": "3.6.4"
  }
 },
 "nbformat": 4,
 "nbformat_minor": 1
}
