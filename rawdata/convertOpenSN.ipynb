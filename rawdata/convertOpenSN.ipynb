{
 "cells": [
  {
   "cell_type": "markdown",
   "metadata": {},
   "source": [
    "# Convert OpenSN data to name,host,type,x,y,z,t,lum\n",
    "\n",
    "Data downloaded from The Open Supernova Catalog https://sne.space on Aug. 20, 2019"
   ]
  },
  {
   "cell_type": "code",
   "execution_count": 5,
   "metadata": {},
   "outputs": [],
   "source": [
    "import pandas as pd\n",
    "import numpy as np\n",
    "from astropy import units\n",
    "from astropy.coordinates import SkyCoord, Distance\n",
    "from astropy.cosmology import WMAP9\n",
    "import datetime\n",
    "\n",
    "import matplotlib.pyplot as plt\n",
    "%matplotlib inline"
   ]
  },
  {
   "cell_type": "code",
   "execution_count": 6,
   "metadata": {},
   "outputs": [],
   "source": [
    "df = pd.read_csv('OpenSNCat.csv')\n",
    "#select the ones that have all the data we need\n",
    "df = df.loc[(df['R.A.'].notnull()) & \\\n",
    "              (df['Dec.'].notnull()) & \\\n",
    "              (df['Disc. Date'].notnull())]# & \\\n",
    "              #(df['dL (Mpc)'].notnull()) & \\\n",
    "              #(df['Mmax'].notnull())]\n"
   ]
  },
  {
   "cell_type": "markdown",
   "metadata": {},
   "source": [
    "I will have to iterate through the rows, since some coords have multiple entries, and some dates are bad"
   ]
  },
  {
   "cell_type": "code",
   "execution_count": 7,
   "metadata": {},
   "outputs": [
    {
     "name": "stdout",
     "output_type": "stream",
     "text": [
      "mean distance 1077.1528440219008\n",
      "max distance 98900.0\n",
      "mean Mmax -18.362331456582606\n"
     ]
    }
   ],
   "source": [
    "#get the mean distance, so that I can use that for sources w/o distances\n",
    "mDist = df['dL (Mpc)'].mean()\n",
    "mMmax = df['Mmax'].mean()\n",
    "print(\"mean distance\", mDist)\n",
    "print('max distance', df['dL (Mpc)'].max())\n",
    "print(\"mean Mmax\", mMmax)"
   ]
  },
  {
   "cell_type": "code",
   "execution_count": 9,
   "metadata": {},
   "outputs": [
    {
     "name": "stderr",
     "output_type": "stream",
     "text": [
      "WARNING: IllegalSecondWarning: 'second' was found  to be '60.0', which is not in range [0,60). Treating as 0 sec, +1 min [astropy.coordinates.angle_utilities]\n",
      "WARNING: IllegalHourWarning: 'hour' was found  to be '24.0', which is not in range (-24, 24). Treating as 24 hr [astropy.coordinates.angle_utilities]\n"
     ]
    }
   ],
   "source": [
    "x = []\n",
    "y = []\n",
    "z = []\n",
    "t = []\n",
    "\n",
    "log10lum = []\n",
    "name = []\n",
    "host = []\n",
    "tpe = []\n",
    "dflag = []\n",
    "\n",
    "#for datetime\n",
    "fmt = '%Y/%m/%d'\n",
    "\n",
    "N = 1e10\n",
    "for index, row in df.iterrows():\n",
    "    bad = False\n",
    "    \n",
    "    #there are still some dates that cause errors (e.g., 185/12/07/)\n",
    "    date = str(row['Disc. Date'])\n",
    "    pos = date.find(',')\n",
    "    fmt0 = fmt\n",
    "    if (pos != -1):    \n",
    "        date = row['Disc. Date'][0:pos]\n",
    "    pos1 = date.find('/')\n",
    "    pos2 = date.rfind('/')\n",
    "    if (pos1 == -1):\n",
    "        fmt0 = '%Y'\n",
    "    if (pos1 != -1 and pos2 == pos1):\n",
    "        fmt0 = '%Y/%m'\n",
    "    if (pos1 != -1 and pos2 != pos1 and pos2 == len(date)):\n",
    "        fmt0 = '%Y/%m/'\n",
    "    if (fmt0 == fmt):\n",
    "        val1 = int(date[0:pos1])\n",
    "        if (val1 <= 12):\n",
    "            fmt0 = '%m/%d/%Y'\n",
    "        if (val1 > 12 and val1 < 1800):\n",
    "            bad = True\n",
    "\n",
    "    if (not bad):\n",
    "        dt = datetime.datetime.strptime(date, fmt0) \n",
    "        t.append(dt.year + dt.month/12. + dt.day/365.24)\n",
    "        \n",
    "        ra = row['R.A.']\n",
    "        pos = str(ra).find(',')\n",
    "        if (pos != -1):    \n",
    "            ra = row['R.A.'][0:pos]\n",
    "\n",
    "        dec = row['Dec.']\n",
    "        pos = str(dec).find(',')\n",
    "        if (pos != -1):    \n",
    "            dec = row['Dec.'][0:pos]\n",
    "\n",
    "        if (pd.isna(row['dL (Mpc)'])):\n",
    "            d = mDist*units.Mpc\n",
    "            dflag.append(-1)\n",
    "        else:\n",
    "            d = row['dL (Mpc)']*units.Mpc\n",
    "            dflag.append(1)\n",
    "        #convert to comoving distance\n",
    "        cosmoz = Distance(d).z\n",
    "        \n",
    "        \n",
    "        c1 = SkyCoord(ra, dec, unit=(units.hourangle, units.deg), distance=WMAP9.comoving_distance(cosmoz)).galactic.cartesian\n",
    "        x.append(c1.x.to(units.Mpc).value)\n",
    "        y.append(c1.y.to(units.Mpc).value)\n",
    "        z.append(c1.z.to(units.Mpc).value)\n",
    "\n",
    "        m = mMmax\n",
    "        if (pd.notna(row['Mmax'])):\n",
    "            m = row['Mmax']\n",
    "        log10lum.append(0.4*(4.74 - m))\n",
    "\n",
    "        name.append(row['Name'])\n",
    "        host.append(row['Host Name'])\n",
    "        tpe.append(row['Type'])\n",
    "        \n",
    "    if (index > N):\n",
    "        break\n",
    "    "
   ]
  },
  {
   "cell_type": "code",
   "execution_count": 11,
   "metadata": {},
   "outputs": [
    {
     "name": "stdout",
     "output_type": "stream",
     "text": [
      "9547.875039034454\n"
     ]
    }
   ],
   "source": [
    "d = np.sqrt(np.array(x)**2. + np.array(y)**2. + np.array(z)**2.)\n",
    "print(max(d))"
   ]
  },
  {
   "cell_type": "code",
   "execution_count": 12,
   "metadata": {},
   "outputs": [
    {
     "name": "stdout",
     "output_type": "stream",
     "text": [
      "1868.0860712590807 2019.680356295404\n"
     ]
    },
    {
     "data": {
      "image/png": "[encoded data removed]",
      "text/plain": [
       "<Figure size 720x360 with 2 Axes>"
      ]
     },
     "metadata": {
      "needs_background": "light"
     },
     "output_type": "display_data"
    }
   ],
   "source": [
    "print(min(t), max(t))\n",
    "f, (ax1, ax2) = plt.subplots(1,2, figsize=(10, 5))\n",
    "_ = ax1.hist(t,bins=100)\n",
    "_ = ax2.hist(log10lum,bins=100)"
   ]
  },
  {
   "cell_type": "markdown",
   "metadata": {},
   "source": [
    "### Convert the types to a float between 0 and 1 for possible colormap"
   ]
  },
  {
   "cell_type": "code",
   "execution_count": 13,
   "metadata": {},
   "outputs": [
    {
     "name": "stdout",
     "output_type": "stream",
     "text": [
      "['nan' 'I Pec' 'Impostor-' 'SLSN-R' 'TDE' 'LBV' 'Ia-91bg' 'Ic BL'\n",
      " 'Ib/Ic (Ca rich)' 'AGN' 'Ia-02ic-like' 'Jovan' 'Other'\n",
      " 'Ib/Ic (Ca rich?)?' 'LGRB' 'Ia/Ic' 'ulense' 'nIa' 'Dwarf' 'II-p' 'Ia-p'\n",
      " 'II L' 'IIn' 'I?' 'LBV to IIn' 'Ic/Ic-BL' 'Ia-02cx' 'II L?' 'IIn?'\n",
      " 'dwarf' 'IIn/Ibn' 'Ib' 'other' 'Ic?' 'Ia?' 'II/IIb' 'Ib (Ca rich)'\n",
      " 'SLSN?' 'Ia/c' 'I-faint' 'Ia-HV' 'Ib Pec' 'SLSN-II?' 'BL' 'Pec' 'Ia-99aa'\n",
      " 'I' 'II P?' 'Ib/c-BL' 'II?' 'Lensed SN Ia' 'Candidate' 'Candidate?'\n",
      " 'SLSN-I?' 'PISN?' 'II P' 'II Pec?' 'Radio' 'Super-Luminous Ic' 'Ib-IIb'\n",
      " 'Star' 'CC' 'II P Pec' 'II Pec' 'BL-Ic' 'Ic Pec' 'XRB' 'II' 'Ib/c' 'Ia*'\n",
      " 'CV' 'SLSN-I' 'IIb/Ib' 'SLSN-IIn' 'Comet' 'IIb/Ib/Ic (Ca rich)' 'Ia-91T'\n",
      " 'Ia CSM' 'CN' 'maser' 'Ic' 'LRV?' 'Ia-pec.' 'Ia' 'IIn/LBV' 'Ia Pec?'\n",
      " 'Ibn/IIbn' 'Ii' 'Ib-Ca-rich' 'IIb?' 'II-P/L' 'LPV' 'removed' 'IIn-09ip'\n",
      " 'Variable' 'NT' 'IIn-pec/LBV' 'Ibn' 'II/Ic' 'IIb' 'Ca-rich' 'Ib-Ca' 'DN'\n",
      " 'LCH' 'SLSN-II' 'II/Ib/c' 'LSQ' 'blue' 'Ic-lum?' 'IIn Pec' 'SLSN-I-R'\n",
      " 'Ib/Ic' 'Iax[02cx-like]' 'Galaxy' 'Ia Pec' 'IIb/Ib/Ic' 'II/LBV' 'Ib/c?'\n",
      " 'Ib/IIb' 'SLSN' 'II-Pp.']\n"
     ]
    },
    {
     "name": "stderr",
     "output_type": "stream",
     "text": [
      "/Users/ageller/anaconda3/lib/python3.7/site-packages/ipykernel_launcher.py:7: FutureWarning: elementwise comparison failed; returning scalar instead, but in the future will perform elementwise comparison\n",
      "  import sys\n"
     ]
    },
    {
     "name": "stdout",
     "output_type": "stream",
     "text": [
      "ntotal: 56744\n",
      "nremoved: 139\n",
      "nIa: 11395\n"
     ]
    },
    {
     "data": {
      "image/png": "[encoded data removed]",
      "text/plain": [
       "<Figure size 432x288 with 1 Axes>"
      ]
     },
     "metadata": {
      "needs_background": "light"
     },
     "output_type": "display_data"
    }
   ],
   "source": [
    "utpe = np.array(list(set(tpe)))\n",
    "print(utpe)\n",
    "tp = []\n",
    "nremoved = 0\n",
    "nIa = 0\n",
    "for tt in tpe:\n",
    "    xx = np.where(utpe == tt)[0]\n",
    "    if (len(xx) == 0): #nan values\n",
    "        tp.append(0)\n",
    "    else:\n",
    "        tp.append(xx[0]/len(utpe))\n",
    "        \n",
    "    if (tt == 'removed'):\n",
    "        nremoved += 1\n",
    "    if (tt == 'Ia'):\n",
    "        nIa += 1\n",
    "\n",
    "print(\"ntotal:\", len(tp))\n",
    "print(\"nremoved:\", nremoved)\n",
    "print(\"nIa:\", nIa)\n",
    "\n",
    "f, ax = plt.subplots()\n",
    "_ = ax.hist(tp,bins=100)"
   ]
  },
  {
   "cell_type": "markdown",
   "metadata": {},
   "source": [
    "### Write this to a \"raw\" file"
   ]
  },
  {
   "cell_type": "code",
   "execution_count": 14,
   "metadata": {},
   "outputs": [],
   "source": [
    "import csv\n",
    "csvfile = open(\"OpenSNCatConverted.raw\", 'wt')\n",
    "csvwriter = csv.writer(csvfile, delimiter=' ', quotechar='|', quoting=csv.QUOTE_MINIMAL)\n",
    "\n",
    "for i in range(len(x)):\n",
    "    csvwriter.writerow([x[i], y[i], z[i], \n",
    "                        t[i], log10lum[i], tp[i],\n",
    "                        dflag[i], 2, 3])\n",
    "csvfile.close()\n",
    "\n",
    "\n",
    "frac = 0.01\n",
    "csvfile = open(\"OpenSNCatConvertedSmall.raw\", 'wt')\n",
    "csvwriter = csv.writer(csvfile, delimiter=' ', quotechar='|', quoting=csv.QUOTE_MINIMAL)\n",
    "\n",
    "for i in range(len(x)):\n",
    "    xx = np.random.random()\n",
    "    if (xx <= frac):\n",
    "        csvwriter.writerow([x[i], y[i], z[i], \n",
    "                            t[i], log10lum[i], tp[i],\n",
    "                            dflag[i], 2, 3])\n",
    "csvfile.close()"
   ]
  },
  {
   "cell_type": "code",
   "execution_count": 15,
   "metadata": {},
   "outputs": [
    {
     "name": "stdout",
     "output_type": "stream",
     "text": [
      "9.240932582633041\n"
     ]
    }
   ],
   "source": [
    "print(log10lum[19])"
   ]
  },
  {
   "cell_type": "code",
   "execution_count": 16,
   "metadata": {},
   "outputs": [
    {
     "name": "stdout",
     "output_type": "stream",
     "text": [
      "False\n",
      "-18.5\n",
      "-18.362331456582606\n",
      "9.240932582633041\n"
     ]
    }
   ],
   "source": [
    "print(pd.isna(df['Mmax'][18]))\n",
    "print(df['Mmax'][18])\n",
    "print(mMmax)\n",
    "print(0.4*(4.74 - mMmax))"
   ]
  },
  {
   "cell_type": "code",
   "execution_count": null,
   "metadata": {},
   "outputs": [],
   "source": []
  }
 ],
 "metadata": {
  "kernelspec": {
   "display_name": "Python 3",
   "language": "python",
   "name": "python3"
  },
  "language_info": {
   "codemirror_mode": {
    "name": "ipython",
    "version": 3
   },
   "file_extension": ".py",
   "mimetype": "text/x-python",
   "name": "python",
   "nbconvert_exporter": "python",
   "pygments_lexer": "ipython3",
   "version": "3.7.3"
  }
 },
 "nbformat": 4,
 "nbformat_minor": 2
}
